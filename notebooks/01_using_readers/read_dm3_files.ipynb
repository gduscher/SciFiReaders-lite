{
 "cells": [
  {
   "cell_type": "markdown",
   "metadata": {},
   "source": [
    "# Reading a DM3 File with ScopeReader\n",
    "\n",
    "**Gerd Duscher**\n",
    "\n",
    "10/09/2020\n",
    "\n",
    "**This document is a simple example of how to read DM3 Files into the sidpy dataformat**\n",
    "\n",
    "**UNDER CONSTRUCTION**"
   ]
  },
  {
   "cell_type": "markdown",
   "metadata": {},
   "source": [
    "## Introduction\n",
    "\n",
    "Digital Micrograph from Gatan runs on many TEMs for data acquisition.\n",
    "We read and plot such files here.\n",
    "\n",
    "## Import all necessary packages\n",
    "\n",
    "There are a few setup procedures that need to be followed before any code is written. In this step, we simply load a\n",
    "few python packages that will be necessary in the later steps.\n"
   ]
  },
  {
   "cell_type": "code",
   "execution_count": 2,
   "metadata": {},
   "outputs": [
    {
     "name": "stdout",
     "output_type": "stream",
     "text": [
      "You don't have igor2 installed.     If you wish to open igor files, you will need to install it     (pip install igor2) before attempting.\n",
      "You don't have gwyfile installed.     If you wish to open .gwy files, you will need to      install it (pip install gwyfile) before attempting.\n"
     ]
    },
    {
     "name": "stderr",
     "output_type": "stream",
     "text": [
      "c:\\Users\\gduscher\\Documents\\Github\\SciFiReaders\\notebooks\\01_using_readers\\../..\\SciFiReaders\\readers\\microscopy\\spm\\afm\\AR_hdf5.py:250: SyntaxWarning: invalid escape sequence '\\s'\n",
      "  match = re.search(r\"^\" + name + \":\\s+(.+$)\", self.notes, re.M)\n"
     ]
    },
    {
     "name": "stdout",
     "output_type": "stream",
     "text": [
      "SciFiReaders version:  0.11.6\n",
      "sidpy version:  0.12.3\n"
     ]
    }
   ],
   "source": [
    "%matplotlib widget\n",
    "import matplotlib.pylab as plt\n",
    "import numpy as np\n",
    "\n",
    "import sys\n",
    "from sidpy.io.interface_utils import open_file_dialog\n",
    "sys.path.insert(0,'../../')\n",
    "from SciFiReaders import DM3Reader\n",
    "import SciFiReaders\n",
    "print('SciFiReaders version: ', SciFiReaders.__version__)\n",
    "import sidpy\n",
    "print('sidpy version: ', sidpy.__version__)"
   ]
  },
  {
   "cell_type": "markdown",
   "metadata": {},
   "source": [
    "## Open a file dialog\n",
    "\n",
    "Here we select the name of the file to open. We will be using the sidpy interface to do that.\n",
    "\n",
    "The ``openfile_dialog`` will open QT file dialog to select a file.\n",
    "\n",
    "For examples go to the ``example_data`` directory in the original folder of this notebook.\n",
    "\n",
    "Note.: in some operating systems the window will not show up on top, look in your task bar."
   ]
  },
  {
   "cell_type": "code",
   "execution_count": 2,
   "metadata": {},
   "outputs": [
    {
     "ename": "",
     "evalue": "",
     "output_type": "error",
     "traceback": [
      "\u001b[1;31mCannot execute code, session has been disposed. Please try restarting the Kernel."
     ]
    },
    {
     "ename": "",
     "evalue": "",
     "output_type": "error",
     "traceback": [
      "\u001b[1;31mThe Kernel crashed while executing code in the the current cell or a previous cell. Please review the code in the cell(s) to identify a possible cause of the failure. Click <a href='https://aka.ms/vscodeJupyterKernelCrash'>here</a> for more info. View Jupyter <a href='command:jupyter.viewOutput'>log</a> for further details."
     ]
    }
   ],
   "source": [
    "%gui qt5"
   ]
  },
  {
   "cell_type": "code",
   "execution_count": 3,
   "metadata": {},
   "outputs": [
    {
     "data": {
      "application/vnd.jupyter.widget-view+json": {
       "model_id": "c74c0b6f8d324e378edd7f605e7dcfd9",
       "version_major": 2,
       "version_minor": 0
      },
      "text/plain": [
       "Select(description='Select file:', layout=Layout(width='70%'), options=('.',), rows=10, value='.')"
      ]
     },
     "metadata": {},
     "output_type": "display_data"
    }
   ],
   "source": [
    "\n",
    "file_list = open_file_dialog()"
   ]
  },
  {
   "cell_type": "code",
   "execution_count": 13,
   "metadata": {},
   "outputs": [
    {
     "data": {
      "application/vnd.jupyter.widget-view+json": {
       "model_id": "8379a057d4dc4d068a522b977ce0ba35",
       "version_major": 2,
       "version_minor": 0
      },
      "text/plain": [
       "Select(description='Select file:', layout=Layout(width='70%'), options=('.',), rows=10, value='.')"
      ]
     },
     "metadata": {},
     "output_type": "display_data"
    }
   ],
   "source": [
    "FileList = open_file_dialog()"
   ]
  },
  {
   "cell_type": "code",
   "execution_count": 4,
   "metadata": {},
   "outputs": [
    {
     "data": {
      "text/plain": [
       "'c:\\\\Users\\\\gduscher\\\\Documents\\\\2022-Experiment\\\\2022-08-18\\\\eels2.dm3'"
      ]
     },
     "execution_count": 4,
     "metadata": {},
     "output_type": "execute_result"
    }
   ],
   "source": [
    "file_list.file_name\n"
   ]
  },
  {
   "cell_type": "markdown",
   "metadata": {},
   "source": [
    "###  Catch a bad selection or cancelling of file selection"
   ]
  },
  {
   "cell_type": "code",
   "execution_count": 5,
   "metadata": {},
   "outputs": [],
   "source": [
    "\n",
    "\n",
    "if len(file_list.file_name) < 3 or file_list.file_name[-4:] != '.dm3':\n",
    "    print('File not supported')"
   ]
  },
  {
   "cell_type": "code",
   "execution_count": 4,
   "metadata": {},
   "outputs": [
    {
     "data": {
      "text/plain": [
       "'c:\\\\Users\\\\gduscher\\\\Documents\\\\2023-Experiments\\\\09222023eels\\\\gr_LL_0.dm4'"
      ]
     },
     "execution_count": 4,
     "metadata": {},
     "output_type": "execute_result"
    }
   ],
   "source": [
    "file_list.file_name"
   ]
  },
  {
   "cell_type": "markdown",
   "metadata": {},
   "source": [
    "## Read file\n",
    "We use the ScopeReader to read the file into a sidpy dataset.\n",
    "All metadata (absolutely everything) is saved in the ``original_metadata`` attribute\n",
    "of the sidpy Dataset. If the selected file is not a dm3 File you get an ``IOError``."
   ]
  },
  {
   "cell_type": "code",
   "execution_count": 6,
   "metadata": {},
   "outputs": [
    {
     "data": {
      "text/plain": [
       "{'Channel_000': sidpy.Dataset of type SPECTRUM with:\n",
       "  dask.array<array, shape=(2048,), dtype=float32, chunksize=(2048,), chunktype=numpy.ndarray>\n",
       "  data contains: intensity (counts)\n",
       "  and Dimensions: \n",
       " energy_loss:  energy-loss (eV) of size (2048,)\n",
       "  with metadata: ['experiment']}"
      ]
     },
     "execution_count": 6,
     "metadata": {},
     "output_type": "execute_result"
    }
   ],
   "source": [
    "dm3_reader = DM3Reader(file_list.file_name)\n",
    "datasets = dm3_reader.read()\n",
    "datasets\n"
   ]
  },
  {
   "cell_type": "code",
   "execution_count": 7,
   "metadata": {},
   "outputs": [
    {
     "data": {
      "text/html": [
       "<table>\n",
       "    <tr>\n",
       "        <td>\n",
       "            <table style=\"border-collapse: collapse;\">\n",
       "                <thead>\n",
       "                    <tr>\n",
       "                        <td> </td>\n",
       "                        <th> Array </th>\n",
       "                        <th> Chunk </th>\n",
       "                    </tr>\n",
       "                </thead>\n",
       "                <tbody>\n",
       "                    \n",
       "                    <tr>\n",
       "                        <th> Bytes </th>\n",
       "                        <td> 8.00 kiB </td>\n",
       "                        <td> 8.00 kiB </td>\n",
       "                    </tr>\n",
       "                    \n",
       "                    <tr>\n",
       "                        <th> Shape </th>\n",
       "                        <td> (2048,) </td>\n",
       "                        <td> (2048,) </td>\n",
       "                    </tr>\n",
       "                    <tr>\n",
       "                        <th> Dask graph </th>\n",
       "                        <td colspan=\"2\"> 1 chunks in 1 graph layer </td>\n",
       "                    </tr>\n",
       "                    <tr>\n",
       "                        <th> Data type </th>\n",
       "                        <td colspan=\"2\"> float32 numpy.ndarray </td>\n",
       "                    </tr>\n",
       "                </tbody>\n",
       "            </table>\n",
       "        </td>\n",
       "        <td>\n",
       "        <svg width=\"170\" height=\"75\" style=\"stroke:rgb(0,0,0);stroke-width:1\" >\n",
       "\n",
       "  <!-- Horizontal lines -->\n",
       "  <line x1=\"0\" y1=\"0\" x2=\"120\" y2=\"0\" style=\"stroke-width:2\" />\n",
       "  <line x1=\"0\" y1=\"25\" x2=\"120\" y2=\"25\" style=\"stroke-width:2\" />\n",
       "\n",
       "  <!-- Vertical lines -->\n",
       "  <line x1=\"0\" y1=\"0\" x2=\"0\" y2=\"25\" style=\"stroke-width:2\" />\n",
       "  <line x1=\"120\" y1=\"0\" x2=\"120\" y2=\"25\" style=\"stroke-width:2\" />\n",
       "\n",
       "  <!-- Colored Rectangle -->\n",
       "  <polygon points=\"0.0,0.0 120.0,0.0 120.0,25.412616514582485 0.0,25.412616514582485\" style=\"fill:#ECB172A0;stroke-width:0\"/>\n",
       "\n",
       "  <!-- Text -->\n",
       "  <text x=\"60.000000\" y=\"45.412617\" font-size=\"1.0rem\" font-weight=\"100\" text-anchor=\"middle\" >2048</text>\n",
       "  <text x=\"140.000000\" y=\"12.706308\" font-size=\"1.0rem\" font-weight=\"100\" text-anchor=\"middle\" transform=\"rotate(0,140.000000,12.706308)\">1</text>\n",
       "</svg>\n",
       "        </td>\n",
       "    </tr>\n",
       "</table>"
      ],
      "text/plain": [
       "sidpy.Dataset of type SPECTRUM with:\n",
       " dask.array<array, shape=(2048,), dtype=float32, chunksize=(2048,), chunktype=numpy.ndarray>\n",
       " data contains: intensity (counts)\n",
       " and Dimensions: \n",
       "energy_loss:  energy-loss (eV) of size (2048,)\n",
       " with metadata: ['experiment']"
      ]
     },
     "execution_count": 7,
     "metadata": {},
     "output_type": "execute_result"
    }
   ],
   "source": [
    "dataset = datasets['Channel_000']\n",
    "dataset"
   ]
  },
  {
   "cell_type": "markdown",
   "metadata": {},
   "source": [
    "## Plot File\n",
    "Only one command is necessary to plot the file."
   ]
  },
  {
   "cell_type": "code",
   "execution_count": 8,
   "metadata": {},
   "outputs": [
    {
     "ename": "NameError",
     "evalue": "name 'FileWidget' is not defined",
     "output_type": "error",
     "traceback": [
      "\u001b[1;31m---------------------------------------------------------------------------\u001b[0m",
      "\u001b[1;31mNameError\u001b[0m                                 Traceback (most recent call last)",
      "Cell \u001b[1;32mIn[8], line 1\u001b[0m\n\u001b[1;32m----> 1\u001b[0m FileWidget\u001b[38;5;241m.\u001b[39mfile_name\n",
      "\u001b[1;31mNameError\u001b[0m: name 'FileWidget' is not defined"
     ]
    }
   ],
   "source": [
    "FileWidget.file_name"
   ]
  },
  {
   "cell_type": "code",
   "execution_count": 11,
   "metadata": {},
   "outputs": [
    {
     "data": {
      "application/vnd.jupyter.widget-view+json": {
       "model_id": "83e0195d86774e8397d742faeceb19b6",
       "version_major": 2,
       "version_minor": 0
      },
      "image/png": "[encoded data removed]",
      "text/html": [
       "\n",
       "            <div style=\"display: inline-block;\">\n",
       "                <div class=\"jupyter-widgets widget-label\" style=\"text-align: center;\">\n",
       "                    Figure\n",
       "                </div>\n",
       "                <img src='data:image/png;base64,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' width=640.0/>\n",
       "            </div>\n",
       "        "
      ],
      "text/plain": [
       "Canvas(toolbar=None)"
      ]
     },
     "metadata": {},
     "output_type": "display_data"
    }
   ],
   "source": [
    "view = dataset.plot()"
   ]
  },
  {
   "cell_type": "markdown",
   "metadata": {},
   "source": [
    "## DM3 Original Metadata\n",
    "Digital micrograph stores a lot of metadata in the file and we read all of them and store that information in the ``original_metadata``. "
   ]
  },
  {
   "cell_type": "code",
   "execution_count": 13,
   "metadata": {
    "scrolled": true,
    "tags": [
     "outputPrepend"
    ]
   },
   "outputs": [
    {
     "name": "stdout",
     "output_type": "stream",
     "text": [
      "ImageData :\n",
      "\tCalibrations :\n",
      "\t\tBrightness :\n",
      "\t\t\tOrigin : 0.0\n",
      "\t\t\tScale : 1.0\n",
      "\t\t\tUnits : Counts\n",
      "\t\tDimension :\n",
      "\t\t\t0 :\n",
      "\t\t\t\tOrigin : -1400.0\n",
      "\t\t\t\tScale : 0.25\n",
      "\t\t\t\tUnits : eV\n",
      "\t\tDisplayCalibratedUnits : 1\n",
      "\tData : read\n",
      "\tDataType : 2\n",
      "\tDimensions :\n",
      "\t\t0 : 2048\n",
      "\tPixelDepth : 4\n",
      "ImageTags :\n",
      "\tAcquisition :\n",
      "\t\tDevice :\n",
      "\t\t\tActive Size (pixels) : [2048, 520]\n",
      "\t\t\tCamera Number : 0\n",
      "\t\t\tCCD :\n",
      "\t\t\t\tPixel Size (um) : [14.0, 14.0]\n",
      "\t\t\tConfiguration :\n",
      "\t\t\t\tTranspose :\n",
      "\t\t\t\t\tDiagonal Flip : 0\n",
      "\t\t\t\t\tHorizontal Flip : 0\n",
      "\t\t\t\t\tVertical Flip : 0\n",
      "\t\t\tName : QUEFINA 1\n",
      "\t\t\tSource : QUEFINA 1\n",
      "\t\tFrame :\n",
      "\t\t\tArea :\n",
      "\t\t\t\tTransform :\n",
      "\t\t\t\t\tClass Name : cm_acquisitiontransform_list\n",
      "\t\t\t\t\tTransform List :\n",
      "\t\t\t\t\t\t0 :\n",
      "\t\t\t\t\t\t\tBinning : [1, 130]\n",
      "\t\t\t\t\t\t\tClass Name : cm_acquisitiontransform\n",
      "\t\t\t\t\t\t\tSub Area Adjust : [0, 0, 0, 0]\n",
      "\t\t\t\t\t\t\tTranspose :\n",
      "\t\t\t\t\t\t\t\tDiagonal Flip : 0\n",
      "\t\t\t\t\t\t\t\tHorizontal Flip : 0\n",
      "\t\t\t\t\t\t\t\tVertical Flip : 0\n",
      "\t\t\tCCD :\n",
      "\t\t\t\tPixel Size (um) : [1820.0, 14.0]\n",
      "\t\t\tIntensity :\n",
      "\t\t\t\tTransform :\n",
      "\t\t\t\t\tClass Name : cm_valuetransform_list\n",
      "\t\t\t\t\tTransform List :\n",
      "\t\t\t\t\t\t0 :\n",
      "\t\t\t\t\t\t\tClass Name : cm_valuetransform_affine\n",
      "\t\t\t\t\t\t\tOffset : 250.0\n",
      "\t\t\t\t\t\t\tScale : 1.0\n",
      "\t\t\t\t\t\t1 :\n",
      "\t\t\t\t\t\t\tADC Max : 65535.0\n",
      "\t\t\t\t\t\t\tADC Min : 0.0\n",
      "\t\t\t\t\t\t\tClass Name : cm_valuetransform_adc\n",
      "\t\tParameters :\n",
      "\t\t\tAcquisition Write Flags : 4294967295\n",
      "\t\t\tBase Detector :\n",
      "\t\t\t\tClass Name : cm_namedcameradetectorparameterset\n",
      "\t\t\t\tName : default\n",
      "\t\t\tDetector :\n",
      "\t\t\t\tcontinuous : 1\n",
      "\t\t\t\texposure (s) : 2.0\n",
      "\t\t\t\thbin : 1\n",
      "\t\t\t\theight : 260\n",
      "\t\t\t\tleft : 0\n",
      "\t\t\t\ttop : 130\n",
      "\t\t\t\tvbin : 130\n",
      "\t\t\t\twidth : 2048\n",
      "\t\t\tEnvironment :\n",
      "\t\t\t\tMode Name : Spectroscopy\n",
      "\t\t\tHigh Level :\n",
      "\t\t\t\tAcquisition Buffer Size : 0\n",
      "\t\t\t\tAntiblooming : 0\n",
      "\t\t\t\tBinning : [1, 130]\n",
      "\t\t\t\tCCD Read Area : [130, 0, 390, 2048]\n",
      "\t\t\t\tCCD Read Ports : 1\n",
      "\t\t\t\tChoose Number Of Frame Shutters Automatically : 1\n",
      "\t\t\t\tClass Name : cm_camera_highlevelparameters\n",
      "\t\t\t\tContinuous Readout : 1\n",
      "\t\t\t\tCorrections : 305\n",
      "\t\t\t\tCorrections Mask : 817\n",
      "\t\t\t\tExposure (s) : 2.0\n",
      "\t\t\t\tNumber Of Frame Shutters : 1\n",
      "\t\t\t\tProcessing : Dark Subtracted\n",
      "\t\t\t\tQuality Level : 1\n",
      "\t\t\t\tRead Frame Style : 0\n",
      "\t\t\t\tRead Mode : 13\n",
      "\t\t\t\tSecondary Shutter Post Exposure Compensation (s) : 0.0\n",
      "\t\t\t\tSecondary Shutter Pre Exposure Compensation (s) : 0.0\n",
      "\t\t\t\tShutter :\n",
      "\t\t\t\t\tPrimary Shutter States : 0\n",
      "\t\t\t\t\tPrimary Shutter States Mask : 0\n",
      "\t\t\t\t\tSecondary Shutter States : 0\n",
      "\t\t\t\t\tSecondary Shutter States Mask : 0\n",
      "\t\t\t\t\tShutter Exposure : 0\n",
      "\t\t\t\t\tShutter Index : 0\n",
      "\t\t\t\tShutter Post Exposure Compensation (s) : 0.0\n",
      "\t\t\t\tShutter Pre Exposure Compensation (s) : 0.0\n",
      "\t\t\t\tTransform :\n",
      "\t\t\t\t\tDiagonal Flip : 0\n",
      "\t\t\t\t\tHorizontal Flip : 0\n",
      "\t\t\t\t\tVertical Flip : 0\n",
      "\t\t\tObjects :\n",
      "\t\t\t\t0 :\n",
      "\t\t\t\t\tClass Name : cm_imgproc_finalcombine\n",
      "\t\t\t\t\tFrame Combine Style : Copy\n",
      "\t\t\t\t\tParameter 1 : 1.0\n",
      "\t\t\tParameter Set Name : Acquire\n",
      "\t\t\tParameter Set Tag Path : Spectroscopy:Acquire:Acquire\n",
      "\t\t\tVersion : 33947648\n",
      "\tEELS :\n",
      "\t\tAcquisition :\n",
      "\t\t\tContinuous mode : 0\n",
      "\t\t\tDate : 12/14/2019\n",
      "\t\t\tEnd time : 1:31:04 PM\n",
      "\t\t\tExposure (s) : 2.0\n",
      "\t\t\tIntegration time (s) : 20.0\n",
      "\t\t\tNumber of frames : 10\n",
      "\t\t\tSaturation fraction : 0.21766255795955658\n",
      "\t\t\tStart time : 1:30:41 PM\n",
      "\t\tExperimental Conditions :\n",
      "\t\t\tCollection semi-angle (mrad) : 33.0\n",
      "\t\t\tConvergence semi-angle (mrad) : 30.0\n",
      "\tEELS Spectrometer :\n",
      "\t\tDispersion (eV/ch) : 0.25\n",
      "\t\tDispersion index : 4\n",
      "\t\tDrift tube enabled : 1\n",
      "\t\tDrift tube voltage (V) : 400.0\n",
      "\t\tEnergy loss (eV) : 400.0\n",
      "\t\tHT offset (V) : 0.0\n",
      "\t\tHT offset enabled : 0.0\n",
      "\t\tInstrument ID : 3977\n",
      "\t\tInstrument name : Enfinium ER NION\n",
      "\t\tMode : 0\n",
      "\t\tPrism offset (V) : -0.0\n",
      "\t\tPrism offset enabled  : 1\n",
      "\tMeta Data :\n",
      "\t\tAcquisition Mode : Parallel dispersive\n",
      "\t\tFormat : Spectrum\n",
      "\t\tSignal : EELS\n",
      "\tMicroscope Info :\n",
      "\t\tCs(mm) : 0.0\n",
      "\t\tEmission Current (A) : 0.0\n",
      "\t\tFormatted Indicated Mag : 100x\n",
      "\t\tFormatted Voltage : 200kV\n",
      "\t\tIllumination Mode : STEM\n",
      "\t\tImaging Mode : IMAGING\n",
      "\t\tIndicated Magnification : 100.0\n",
      "\t\tName : Unknown\n",
      "\t\tOperation Mode : SCANNING\n",
      "\t\tProbe Current (nA) : 0.0\n",
      "\t\tProbe Size (nm) : 0.0\n",
      "\t\tSTEM Camera Length : 2.8\n",
      "\t\tVoltage : 200000.0\n",
      "\tSession Info :\n",
      "\t\tItems :\n",
      "\t\t\t0 :\n",
      "\t\t\t\tData Type : 20\n",
      "\t\t\t\tLabel : Specimen\n",
      "\t\t\t\tPrecision : 0\n",
      "\t\t\t\tTag path : Session Info:Specimen\n",
      "\t\t\t\tUnits : \n",
      "\t\t\t\tValue : \n",
      "\t\t\t1 :\n",
      "\t\t\t\tData Type : 20\n",
      "\t\t\t\tLabel : Operator\n",
      "\t\t\t\tPrecision : 0\n",
      "\t\t\t\tTag path : Session Info:Operator\n",
      "\t\t\t\tUnits : \n",
      "\t\t\t\tValue : \n",
      "\t\t\t2 :\n",
      "\t\t\t\tData Type : 20\n",
      "\t\t\t\tLabel : Microscope\n",
      "\t\t\t\tPrecision : 0\n",
      "\t\t\t\tTag path : Session Info:Microscope\n",
      "\t\t\t\tUnits : \n",
      "\t\t\t\tValue : \n",
      "\t\tMicroscope : \n",
      "\t\tOperator : \n",
      "\t\tSpecimen : \n",
      "Name : 01-EELS Acquire_STO\n",
      "UniqueID :\n",
      "\t0 : 774116825\n",
      "\t1 : 412555428\n",
      "\t2 : 1897604613\n",
      "\t3 : 952377132\n",
      "DM :\n",
      "\tdm_version : 3\n",
      "\tfile_size : 322611\n",
      "\tfull_file_name : C:/Users/gduscher/Documents/Github/SciFiReaders/notebooks/01_using_readers/example_data/EELS_STO.dm3\n",
      "original_filename : C:/Users/gduscher/Documents/Github/SciFiReaders/notebooks/01_using_readers/example_data/EELS_STO.dm3\n",
      "ApplicationBounds : [0, 0, 1065, 1916]\n",
      "DocumentObjectList :\n",
      "\t0 :\n",
      "\t\tAnnotationGroupList :\n",
      "\t\tAnnotationType : 20\n",
      "\t\tBackgroundColor : [-1, -1, -1]\n",
      "\t\tBackgroundMode : 2\n",
      "\t\tFillMode : 2\n",
      "\t\tForegroundColor : [-1, 0, 0]\n",
      "\t\tHasBackground : 0\n",
      "\t\tImageDisplayInfo :\n",
      "\t\t\tBackgroundColor : [-5655, -5655, -5655]\n",
      "\t\t\tBackgroundOn : 1\n",
      "\t\t\tCalibrationSliceId :\n",
      "\t\t\t\t0 : 0\n",
      "\t\t\tCaptionAttributes : 7\n",
      "\t\t\tCaptionColor : [0, 0, 0]\n",
      "\t\t\tCaptionFaceName : Lucida Sans Unicode\n",
      "\t\t\tCaptionOn : 1\n",
      "\t\t\tCaptionSize : 10\n",
      "\t\t\tCursorOn : 0\n",
      "\t\t\tCursorPosition : 0.0\n",
      "\t\t\tDimensionLabels :\n",
      "\t\t\t\t0 : \n",
      "\t\t\tDynamicContrast : 1\n",
      "\t\t\tFrameOn : 1\n",
      "\t\t\tGridColor : [0, -1, -1]\n",
      "\t\t\tGridOn : 1\n",
      "\t\t\tGroupId : 0\n",
      "\t\t\tGroupList :\n",
      "\t\t\t\t0 :\n",
      "\t\t\t\t\tDoAutoSurveyHigh : 1\n",
      "\t\t\t\t\tDoAutoSurveyLow : 1\n",
      "\t\t\t\t\tGroupToDisplay :\n",
      "\t\t\t\t\t\tOffset : [-0.0, -0.0]\n",
      "\t\t\t\t\t\tScale : [0.00048828125, 4.16666489400086e-06]\n",
      "\t\t\t\t\tTrackStyleX : 0\n",
      "\t\t\t\t\tTrackStyleY : 0\n",
      "\t\t\tLegendOn : 0\n",
      "\t\t\tMainSliceId :\n",
      "\t\t\t\t0 : 0\n",
      "\t\t\tNumHorizontalTicks : 1\n",
      "\t\t\tNumVerticalTicks : 1\n",
      "\t\t\tSliceList :\n",
      "\t\t\t\t0 :\n",
      "\t\t\t\t\tBaseIntensity : 0.0\n",
      "\t\t\t\t\tComplexMode : 4\n",
      "\t\t\t\t\tDrawFill : 1\n",
      "\t\t\t\t\tDrawLine : 0\n",
      "\t\t\t\t\tDrawTransparent : 0\n",
      "\t\t\t\t\tFillColor : [23644, -16449, -16449]\n",
      "\t\t\t\t\tHorz Pos Fixed : 1\n",
      "\t\t\t\t\tHorz Scale Fixed : 1\n",
      "\t\t\t\t\tImageToGroup :\n",
      "\t\t\t\t\t\tOffset : [0.0, 0.0]\n",
      "\t\t\t\t\t\tScale : [1.0, 1.0]\n",
      "\t\t\t\t\tIsVisible : 1\n",
      "\t\t\t\t\tLineColor : [0, -32640, -16449]\n",
      "\t\t\t\t\tLineStyle : 0\n",
      "\t\t\t\t\tLineThickness : 1\n",
      "\t\t\t\t\tSliceGroup : 0\n",
      "\t\t\t\t\tSliceId :\n",
      "\t\t\t\t\t\t0 : 0\n",
      "\t\t\t\t\tTransparency : 0.0\n",
      "\t\t\t\t\tTransparencyStyle : 0\n",
      "\t\t\t\t\tVert Pos Fixed : 1\n",
      "\t\t\t\t\tVert Scale Fixed : 1\n",
      "\t\t\tSurveyRegion : 1\n",
      "\t\tImageDisplayType : 3\n",
      "\t\tImageSource : 0\n",
      "\t\tIsMoveable : 1\n",
      "\t\tIsResizable : 1\n",
      "\t\tIsSelectable : 1\n",
      "\t\tIsTranslatable : 1\n",
      "\t\tIsVisible : 1\n",
      "\t\tObjectTags :\n",
      "\t\tRectangle : [0.0, 0.0, 342.0, 669.0]\n",
      "\t\tUniqueID : 8\n",
      "DocumentTags :\n",
      "HasWindowPosition : 1\n",
      "Image Behavior :\n",
      "\tDoIntegralZoom : 0\n",
      "\tImageDisplayBounds : [0.0, 0.0, 342.0, 669.0]\n",
      "\tIsZoomedToWindow : 1\n",
      "\tUnscaledTransform :\n",
      "\t\tOffset : [0.0, 0.0]\n",
      "\t\tScale : [1.0, 1.0]\n",
      "\tViewDisplayID : 8\n",
      "\tWindowRect : [0.0, 0.0, 342.0, 669.0]\n",
      "\tZoomAndMoveTransform :\n",
      "\t\tOffset : [0.0, 0.0]\n",
      "\t\tScale : [1.0, 1.0]\n",
      "ImageSourceList :\n",
      "\t0 :\n",
      "\t\tClassName : ImageSource:Simple\n",
      "\t\tExtra Slice Info :\n",
      "\t\t\t0 :\n",
      "\t\t\t\tId :\n",
      "\t\t\t\t\t0 : 0\n",
      "\t\t\t\tLabel : Spectrum\n",
      "\t\tId :\n",
      "\t\t\t0 : 0\n",
      "\t\tImageRef : 1\n",
      "InImageMode : 1\n",
      "MinVersionList :\n",
      "\t0 :\n",
      "\t\tRequiredVersion : 50659328\n",
      "NextDocumentObjectID : 9\n",
      "Page Behavior :\n",
      "\tDoIntegralZoom : 0\n",
      "\tDrawMargins : 1\n",
      "\tDrawPaper : 1\n",
      "\tIsFixedInPageMode : 0\n",
      "\tIsZoomedToWindow : 1\n",
      "\tLayedOut : 0\n",
      "\tPageTransform :\n",
      "\t\tOffset : [0.0, 0.0]\n",
      "\t\tScale : [1.0, 1.0]\n",
      "\tRestoreImageDisplayBounds : [0.0, 0.0, 342.0, 669.5]\n",
      "\tRestoreImageDisplayID : 8\n",
      "\tTargetDisplayID : 4294967295\n",
      "PageSetup :\n",
      "\tGeneral : [1, 1000, 8500, 11000, 1000, 1000, -1000, -1000]\n",
      "\tWin32 : b'\\x04\\x00\\x00\\x004!\\x00\\x00\\xf8*\\x00\\x00M\\x01\\x00\\x00M\\x01\\x00\\x00\\xfa\\x00\\x00\\x00\\xfa\\x00\\x00\\x00\\xe8\\x03\\x00\\x00\\xe8\\x03\\x00\\x00\\xe8\\x03\\x00\\x00\\xe8\\x03\\x00\\x00\\x00\\x00\\x00\\x00\\x01\\x00\\x01\\x00\\x01\\x00\\x01\\x00\\x01\\x00\\x18\\x00'\n",
      "\tWin32_DevModeW : b'S\\x00e\\x00n\\x00d\\x00 \\x00T\\x00o\\x00 \\x00O\\x00n\\x00e\\x00N\\x00o\\x00t\\x00e\\x00 \\x002\\x000\\x001\\x000\\x00\\x00\\x00\\x00\\x00\\x00\\x00\\x00\\x00\\x00\\x00\\x00\\x00\\x00\\x00\\x00\\x00\\x00\\x00\\x00\\x00\\x00\\x00\\x00\\x00\\x01\\x04\\x00\\x06\\xdc\\x00\\x0c\\x03\\x03\\xff\\x00\\x00\\x01\\x00\\x01\\x00\\xea\\no\\x08d\\x00\\x01\\x00\\x0f\\x00X\\x02\\x02\\x00\\x01\\x00X\\x02\\x02\\x00\\x00\\x00L\\x00e\\x00t\\x00t\\x00e\\x00r\\x00\\x00\\x00\\x00\\x00\\x00\\x00\\x00\\x00\\x00\\x00\\x00\\x00\\x00\\x00\\x00\\x00\\x00\\x00\\x00\\x00\\x00\\x00\\x00\\x00\\x00\\x00\\x00\\x00\\x00\\x00\\x00\\x00\\x00\\x00\\x00\\x00\\x00\\x00\\x00\\x00\\x00\\x00\\x00\\x00\\x00\\x00\\x00\\x00\\x00\\x00\\x00\\x00\\x00\\x00\\x00\\x00\\x00\\x00\\x00\\x00\\x00\\x00\\x00\\x00\\x00\\x00\\x01\\x00\\x00\\x00\\x00\\x00\\x00\\x00\\x01\\x00\\x00\\x00\\x02\\x00\\x00\\x00\\x01\\x00\\x00\\x00\\xff\\xff\\xff\\xff\\x00\\x00\\x00\\x00\\x00\\x00\\x00\\x00\\x00\\x00\\x00\\x00\\x00\\x00\\x00\\x00DINU\"\\x00\\xd0\\x00\\x0c\\x03\\x00\\x00\\xc2\\xac\\x90Q\\x00\\x00\\x00\\x00\\x00\\x00\\x00\\x00\\x00\\x00\\x00\\x00\\x00\\x00\\x00\\x00\\x00\\x00\\x00\\x00\\x00\\x00\\x00\\x00\\x00\\x00\\x00\\x00\\x05\\x00\\x00\\x00\\x00\\x00\\x07\\x00\\x00\\x00\\x00\\x00\\x00\\x00\\x00\\x00\\x00\\x00\\x00\\x00\\x00\\x00\\x00\\x00\\x00\\x00\\x00\\x00\\x00\\x00\\x00\\x00\\x00\\x00\\x00\\x00\\x00\\x00\\x00\\x00\\x00\\x00\\x00\\x00\\x00\\x00\\x00\\x00\\x00\\x00\\x00\\x00\\x00\\x00\\x00\\x00\\x00\\x00\\x00\\x00\\x00\\x00\\x00\\x00\\x00\\x00\\x00\\x00\\x00\\x00\\x00\\x00\\x00\\x00\\x00\\x00\\x00\\x00\\x00\\x00\\x00\\x00\\x00\\x00\\x00\\x00\\x00\\x00\\x00\\x00\\x00\\x00\\x00\\x00\\x00\\x00\\x00\\x00\\x00\\x00\\x00\\x00\\x00\\x00\\x00\\x00\\x00\\x00\\x00\\x00\\x00\\x00\\x00\\x00\\x00\\x00\\x00\\x00\\x00\\x00\\x00\\x00\\x00\\x00\\x00\\x00\\x00\\x00\\x00\\x00\\x00\\x00\\x00\\x00\\x00\\x00\\x00\\x00\\x00\\x00\\x00\\x00\\x00\\x00\\x00\\x00\\x00\\x00\\x00\\x00\\x00\\x00\\x00\\x00\\x00\\x00\\x00\\x00\\x00\\x00\\x00\\x00\\x00\\x00\\x00\\x00\\x00\\x00\\x00\\x00\\x00\\x00\\x00\\x00\\x00\\x00\\x00\\x00\\x00\\x00\\x00\\x00\\x00\\x00\\x00\\x00\\x00\\x00\\x00\\x00\\x00\\x00\\x00\\x00\\x00\\x00\\x00\\x00\\x00\\x00\\x00\\x00\\x00\\x00\\x00\\x00\\x00\\x00\\x00\\x00\\x00\\x00\\x00\\x00\\x00\\x00\\x00\\x00\\x00\\x00\\x00\\x00\\x00\\x00\\x00\\x00\\x00\\x00\\x00\\x00\\x00\\x00\\x00\\x00\\x00\\x00\\x00\\x00\\x00\\x00\\x00\\x00\\x00\\x00\\x00\\x00\\x00\\x00\\x00\\x00\\x00\\x00\\x00\\x00\\x00\\x00\\x00\\x00\\x00\\x00\\x00\\x00\\x00\\x00\\x00\\x00\\x00\\x00\\x00\\x00\\x00\\x00\\x00\\x00\\x00\\x00\\x00\\x00\\x00\\x00\\x00\\x00\\x00\\x00\\x00\\x00\\x00\\x00\\x00\\x00\\x00\\x00\\x00\\x00\\x00\\x00\\x00\\x00\\x00\\x00\\x00\\x00\\x00\\x00\\x00\\x00\\x00\\x00\\x00\\x00\\x00\\x00\\x00\\x00\\x00\\x00\\x00\\x00\\x00\\x00\\x00\\x00\\x00\\x00\\x00\\x00\\x00\\x00\\x00\\x00\\x00\\x00\\x00\\x00\\x00\\x00\\x00\\x00\\x00\\x00\\x00\\x00\\x00\\x00\\x00\\x00\\x00\\x00\\x00\\x00\\x00\\x00\\x00\\x00\\x00\\x00\\x00\\x00\\x00\\x00\\x00\\x00\\x00\\x00\\x00\\x00\\x00\\x00\\x00\\x00\\x00\\x00\\x00\\x00\\x00\\x00\\x00\\x00\\x00\\x00\\x00\\x00\\x00\\x00\\x00\\x00\\x00\\x00\\x00\\x00\\x00\\x00\\x00\\x00\\x00\\x00\\x00\\x00\\x00\\x00\\x00\\x00\\x00\\x00\\x00\\x00\\x00\\x00\\x00\\x00\\x00\\x00\\x00\\x00\\x00\\x00\\x00\\x00\\x00\\x00\\x00\\x00\\x00\\x00\\x00\\x00\\x00\\x00\\x00\\x00\\x00\\x00\\x00\\x00\\x00\\x00\\x00\\x00\\x00\\x00\\x00\\x00\\x00\\x00\\x00\\x00\\x00\\x00\\x00\\x00\\x00\\x00\\x00\\x00\\x00\\x00\\x00\\x00\\x00\\x00\\x00\\x00\\x00\\x00\\x00\\x00\\x00\\x00\\x00\\x00\\x00\\x00\\x00\\x00\\x00\\x00\\x00\\x00\\x00\\x00\\x00\\x00\\x00\\x00\\x00\\x00\\x00\\x00\\x00\\x00\\x00\\x00\\x00\\x00\\x00\\x00\\x00\\x00\\x00\\x00\\x00\\x00\\x00\\x00\\x00\\x00\\x00\\x00\\x00\\x00\\x00\\x00\\x00\\x00\\x00\\x00\\x01\\x00\\x00\\x00\\x00\\x00\\x00\\x00\\x00\\x00\\x00\\x00\\xd0\\x00\\x00\\x00SMTJ\\x00\\x00\\x00\\x00\\x10\\x00\\xc0\\x00S\\x00e\\x00n\\x00d\\x00 \\x00T\\x00o\\x00 \\x00M\\x00i\\x00c\\x00r\\x00o\\x00s\\x00o\\x00f\\x00t\\x00 \\x00O\\x00n\\x00e\\x00N\\x00o\\x00t\\x00e\\x00 \\x002\\x000\\x001\\x000\\x00 \\x00D\\x00r\\x00i\\x00v\\x00e\\x00r\\x00\\x00\\x00RESDLL\\x00UniresDLL\\x00PaperSize\\x00LETTER\\x00Orientation\\x00PORTRAIT\\x00Resolution\\x00DPI600\\x00ColorMode\\x0024bpp\\x00\\x00\\x00\\x00\\x00\\x00\\x00\\x00\\x00\\x00\\x00\\x00\\x00\\x00\\x00\\x00\\x00\\x00\\x00\\x00\\x00\\x00\\x00\\x00\\x00\\x00\\x00\\x00'\n",
      "\tWin32_DevNamesW : b'\\x04\\x00*\\x00?\\x00\\x00\\x00S\\x00e\\x00n\\x00d\\x00 \\x00T\\x00o\\x00 \\x00M\\x00i\\x00c\\x00r\\x00o\\x00s\\x00o\\x00f\\x00t\\x00 \\x00O\\x00n\\x00e\\x00N\\x00o\\x00t\\x00e\\x00 \\x002\\x000\\x001\\x000\\x00 \\x00D\\x00r\\x00i\\x00v\\x00e\\x00r\\x00\\x00\\x00S\\x00e\\x00n\\x00d\\x00 \\x00T\\x00o\\x00 \\x00O\\x00n\\x00e\\x00N\\x00o\\x00t\\x00e\\x00 \\x002\\x000\\x001\\x000\\x00\\x00\\x00n\\x00u\\x00l\\x00:\\x00\\x00\\x00'\n",
      "SentinelList :\n",
      "Thumbnails :\n",
      "\t0 :\n",
      "\t\tImageIndex : 0\n",
      "\t\tSourceSize_Pixels : [669, 342]\n",
      "WindowPosition : [410, 8, 752, 677]\n"
     ]
    }
   ],
   "source": [
    "dataset.view_original_metadata()"
   ]
  },
  {
   "cell_type": "code",
   "execution_count": null,
   "metadata": {},
   "outputs": [],
   "source": []
  }
 ],
 "metadata": {
  "kernelspec": {
   "display_name": "base",
   "language": "python",
   "name": "python3"
  },
  "language_info": {
   "codemirror_mode": {
    "name": "ipython",
    "version": 3
   },
   "file_extension": ".py",
   "mimetype": "text/x-python",
   "name": "python",
   "nbconvert_exporter": "python",
   "pygments_lexer": "ipython3",
   "version": "3.12.3"
  },
  "toc": {
   "base_numbering": 1,
   "nav_menu": {},
   "number_sections": true,
   "sideBar": true,
   "skip_h1_title": false,
   "title_cell": "Table of Contents",
   "title_sidebar": "Contents",
   "toc_cell": false,
   "toc_position": {},
   "toc_section_display": true,
   "toc_window_display": false
  }
 },
 "nbformat": 4,
 "nbformat_minor": 4
}
