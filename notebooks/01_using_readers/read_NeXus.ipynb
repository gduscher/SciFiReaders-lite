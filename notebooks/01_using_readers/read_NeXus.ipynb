{
 "cells": [
  {
   "cell_type": "markdown",
   "id": "a28f140d",
   "metadata": {},
   "source": [
    "https://manual.nexusformat.org/classes/base_classes/index.html#base-class-definitions"
   ]
  },
  {
   "cell_type": "code",
   "execution_count": 1,
   "id": "a8efb990",
   "metadata": {},
   "outputs": [
    {
     "name": "stdout",
     "output_type": "stream",
     "text": [
      "Populating the interactive namespace from numpy and matplotlib\n"
     ]
    }
   ],
   "source": [
    "%pylab notebook\n",
    "\n",
    "import h5py\n",
    "import sidpy\n",
    "import numpy as np"
   ]
  },
  {
   "cell_type": "code",
   "execution_count": 16,
   "id": "8145935f",
   "metadata": {},
   "outputs": [],
   "source": [
    "file = h5py.File('example_data/33id_spec_22_2D.hdf5','r')"
   ]
  },
  {
   "cell_type": "code",
   "execution_count": 8,
   "id": "3b3aa6f6",
   "metadata": {},
   "outputs": [
    {
     "ename": "TypeError",
     "evalue": "visititems() missing 1 required positional argument: 'func'",
     "output_type": "error",
     "traceback": [
      "\u001b[1;31m---------------------------------------------------------------------------\u001b[0m",
      "\u001b[1;31mTypeError\u001b[0m                                 Traceback (most recent call last)",
      "\u001b[1;32m<ipython-input-8-996fa9be53a4>\u001b[0m in \u001b[0;36m<module>\u001b[1;34m\u001b[0m\n\u001b[1;32m----> 1\u001b[1;33m \u001b[0mprint\u001b[0m\u001b[1;33m(\u001b[0m\u001b[0mfile\u001b[0m\u001b[1;33m.\u001b[0m\u001b[0mvisititems\u001b[0m\u001b[1;33m(\u001b[0m\u001b[1;33m)\u001b[0m\u001b[1;33m)\u001b[0m\u001b[1;33m\u001b[0m\u001b[1;33m\u001b[0m\u001b[0m\n\u001b[0m",
      "\u001b[1;31mTypeError\u001b[0m: visititems() missing 1 required positional argument: 'func'"
     ]
    }
   ],
   "source": [
    "print(file.visititems())"
   ]
  },
  {
   "cell_type": "code",
   "execution_count": 12,
   "id": "aa74c1c3",
   "metadata": {},
   "outputs": [
    {
     "name": "stdout",
     "output_type": "stream",
     "text": [
      "dict_keys(['HDF5_Version', 'SPEC_comments', 'SPEC_date', 'SPEC_epoch', 'SPEC_file', 'SPEC_num_headers', 'SPEC_user', 'default', 'h5py_version', 'numpy_version', 'spec2nexus_version'])\n",
      "/\n",
      "├ S22\n",
      "  ---\n",
      "  ├ G\n",
      "    -\n",
      "    ├ G0\n",
      "    ├ G1\n",
      "    ├ G2\n",
      "  ├ MCA\n",
      "    ---\n",
      "    ├ first_saved\n",
      "    ├ last_saved\n",
      "    ├ number_saved\n",
      "    ├ reduction_coef\n",
      "  ├ Q\n",
      "  ├ T\n",
      "  ├ command\n",
      "  ├ comments\n",
      "  ├ counting_basis\n",
      "  ├ data\n",
      "    ----\n",
      "    ├ Epoch\n",
      "    ├ H\n",
      "    ├ I0\n",
      "    ├ I00\n",
      "    ├ I0_1\n",
      "    ├ K\n",
      "    ├ Kalpha\n",
      "    ├ L\n",
      "    ├ _mca_\n",
      "    ├ _mca_channel_\n",
      "    ├ chi\n",
      "    ├ elastic\n",
      "    ├ eta\n",
      "    ├ harmonic\n",
      "    ├ seconds\n",
      "    ├ signal\n",
      "    ├ signal2\n",
      "  ├ date\n",
      "  ├ definition\n",
      "  ├ metadata\n",
      "    --------\n",
      "    ├ COUPLE_ID_to_DCM\n",
      "    ├ D3_Amps\n",
      "    ├ D3_VDC\n",
      "    ├ D3_bias\n",
      "    ├ D3_dark\n",
      "    ├ D3_gain\n",
      "    ├ D3_pos\n",
      "    ├ D3_suppr\n",
      "    ├ D3_time\n",
      "    ├ DCM_energy\n",
      "    ├ DCM_lambda\n",
      "    ├ DCM_mode\n",
      "    ├ DCM_omega2\n",
      "    ├ DCM_theta0\n",
      "    ├ DCM_thetaEnc\n",
      "    ├ FB_o2_on\n",
      "    ├ FB_o2_r\n",
      "    ├ FB_o2_sp\n",
      "    ├ HSC1b\n",
      "    ├ HSC1h\n",
      "    ├ HSC1h0\n",
      "    ├ HSC1l\n",
      "    ├ HSC1r\n",
      "    ├ HSC1t\n",
      "    ├ HSC1v\n",
      "    ├ HSC1v0\n",
      "    ├ HSC2b\n",
      "    ├ HSC2h\n",
      "    ├ HSC2h0\n",
      "    ├ HSC2l\n",
      "    ├ HSC2r\n",
      "    ├ HSC2t\n",
      "    ├ HSC2v\n",
      "    ├ HSC2v0\n",
      "    ├ HSC3b\n",
      "    ├ HSC3h\n",
      "    ├ HSC3h0\n",
      "    ├ HSC3l\n",
      "    ├ HSC3r\n",
      "    ├ HSC3t\n",
      "    ├ HSC3v\n",
      "    ├ HSC3v0\n",
      "    ├ HSC4b\n",
      "    ├ HSC4h\n",
      "    ├ HSC4h0\n",
      "    ├ HSC4l\n",
      "    ├ HSC4r\n",
      "    ├ HSC4t\n",
      "    ├ HSC4v\n",
      "    ├ HSC4v0\n",
      "    ├ I00_Amps\n",
      "    ├ I00_VDC\n",
      "    ├ I00_bias\n",
      "    ├ I00_dark\n",
      "    ├ I00_gain\n",
      "    ├ I00_suppr\n",
      "    ├ I00_time\n",
      "    ├ I0_Amps\n",
      "    ├ I0_VDC\n",
      "    ├ I0_bias\n",
      "    ├ I0_dark\n",
      "    ├ I0_gain\n",
      "    ├ I0_suppr\n",
      "    ├ I0_time\n",
      "    ├ ID_E\n",
      "    ├ ID_E_Offset\n",
      "    ├ ID_gap\n",
      "    ├ ID_harmonic\n",
      "    ├ ID_taperE\n",
      "    ├ ID_taperGap\n",
      "    ├ JFK540_i0\n",
      "    ├ JFK540_i1\n",
      "    ├ JFK540_i10\n",
      "    ├ JFK540_i11\n",
      "    ├ JFK540_i12\n",
      "    ├ JFK540_i13\n",
      "    ├ JFK540_i14\n",
      "    ├ JFK540_i15\n",
      "    ├ JFK540_i2\n",
      "    ├ JFK540_i3\n",
      "    ├ JFK540_i4\n",
      "    ├ JFK540_i5\n",
      "    ├ JFK540_i6\n",
      "    ├ JFK540_i7\n",
      "    ├ JFK540_i8\n",
      "    ├ JFK540_i9\n",
      "    ├ JFK540_o0\n",
      "    ├ JFK540_o1\n",
      "    ├ JFK540_o2\n",
      "    ├ JFK540_o3\n",
      "    ├ Mirr1_angle\n",
      "    ├ Mirr1_stripe\n",
      "    ├ Mirr1_y\n",
      "    ├ Mirr2_angle\n",
      "    ├ Mirr2_stripe\n",
      "    ├ Mirr2_y\n",
      "    ├ PF4_bladeA1\n",
      "    ├ PF4_bladeA2\n",
      "    ├ PF4_bladeA3\n",
      "    ├ PF4_bladeA4\n",
      "    ├ PF4_bladeB1\n",
      "    ├ PF4_bladeB2\n",
      "    ├ PF4_bladeB3\n",
      "    ├ PF4_bladeB4\n",
      "    ├ PF4_thickAl\n",
      "    ├ PF4_thickTi\n",
      "    ├ PF4_trans\n",
      "    ├ PIN_Amps\n",
      "    ├ PIN_VDC\n",
      "    ├ PIN_bias\n",
      "    ├ PIN_dark\n",
      "    ├ PIN_gain\n",
      "    ├ PIN_suppr\n",
      "    ├ PIN_time\n",
      "    ├ SR_BPM_HA\n",
      "    ├ SR_BPM_HP\n",
      "    ├ SR_BPM_VA\n",
      "    ├ SR_BPM_VP\n",
      "    ├ SR_current\n",
      "    ├ SR_fb\n",
      "    ├ SR_fbH\n",
      "    ├ SR_fbV\n",
      "    ├ SR_fill\n",
      "    ├ SR_mode\n",
      "    ├ SR_status\n",
      "    ├ SR_topUp\n",
      "    ├ barometer_mbar\n",
      "    ├ dark1\n",
      "    ├ dark10\n",
      "    ├ dark11\n",
      "    ├ dark12\n",
      "    ├ dark13\n",
      "    ├ dark14\n",
      "    ├ dark15\n",
      "    ├ dark16\n",
      "    ├ dark2\n",
      "    ├ dark3\n",
      "    ├ dark4\n",
      "    ├ dark5\n",
      "    ├ dark6\n",
      "    ├ dark7\n",
      "    ├ dark8\n",
      "    ├ dark9\n",
      "    ├ darkCoTime\n",
      "    ├ darkRing\n",
      "    ├ darkToTime\n",
      "    ├ jfk_sclr_auto\n",
      "  ├ positioners\n",
      "    -----------\n",
      "    ├ DCM\n",
      "    ├ a2Theta\n",
      "    ├ aTheta\n",
      "    ├ ana_chi\n",
      "    ├ ana_theta\n",
      "    ├ chi\n",
      "    ├ delta\n",
      "    ├ eta\n",
      "    ├ ion_ch_vert\n",
      "    ├ kEta\n",
      "    ├ kappa\n",
      "    ├ mr\n",
      "    ├ mu\n",
      "    ├ nu\n",
      "    ├ phi\n",
      "    ├ sampleX\n",
      "    ├ sampleY\n",
      "    ├ sampleZ\n",
      "    ├ slitmb\n",
      "    ├ slitml\n",
      "    ├ slitmr\n",
      "    ├ slitmt\n",
      "    ├ slitwb\n",
      "    ├ slitwl\n",
      "    ├ slitwr\n",
      "    ├ slitwt\n",
      "    ├ theta\n",
      "  ├ scan_number\n",
      "  ├ title\n",
      "{'HDF5_Version': b'1.8.15', 'SPEC_comments': b'psic  User = epix', 'SPEC_date': b'2003-07-17T02:37:32', 'SPEC_epoch': 1058427452, 'SPEC_file': b'samplecheck_7_17_03', 'SPEC_num_headers': 1, 'SPEC_user': b'epix', 'default': b'S22', 'h5py_version': b'2.5.0', 'numpy_version': b'1.10.4', 'spec2nexus_version': b'2016.0615.1+7.g37731e9.dirty'}\n",
      "S22\n",
      "{'NX_class': b'NXentry', 'default': b'data'}\n"
     ]
    }
   ],
   "source": [
    "print(dict(file['/'].attrs).keys())\n",
    "sidpy.hdf.hdf_utils.print_tree(file)\n",
    "print(dict(file.attrs))\n",
    "for key in file['/']:\n",
    "    print(key)\n",
    "    print(dict(file[key].attrs))\n",
    "    \n",
    "    \n"
   ]
  },
  {
   "cell_type": "code",
   "execution_count": 35,
   "id": "1a902f12",
   "metadata": {},
   "outputs": [
    {
     "name": "stdout",
     "output_type": "stream",
     "text": [
      "Collecting nexusformat\n",
      "  Downloading nexusformat-0.7.0-py3-none-any.whl (73 kB)\n",
      "Collecting versioneer\n",
      "  Downloading versioneer-0.20-py3-none-any.whl (41 kB)\n",
      "Requirement already satisfied: numpy>=1.16 in c:\\users\\gdusc\\anaconda3\\lib\\site-packages (from nexusformat) (1.20.1)\n",
      "Requirement already satisfied: h5py in c:\\users\\gdusc\\anaconda3\\lib\\site-packages (from nexusformat) (2.10.0)\n",
      "Requirement already satisfied: scipy in c:\\users\\gdusc\\anaconda3\\lib\\site-packages (from nexusformat) (1.6.2)\n",
      "Requirement already satisfied: six in c:\\users\\gdusc\\anaconda3\\lib\\site-packages (from h5py->nexusformat) (1.15.0)\n",
      "Installing collected packages: versioneer, nexusformat\n",
      "Successfully installed nexusformat-0.7.0 versioneer-0.20\n"
     ]
    }
   ],
   "source": [
    "!pip install nexusformat"
   ]
  },
  {
   "cell_type": "code",
   "execution_count": 2,
   "id": "e6cbc2b5",
   "metadata": {},
   "outputs": [],
   "source": [
    "root = h5py.File('NXarpes.h5', 'w')\n",
    "\n",
    "# Create the GROUPS \n",
    " \n",
    "root.create_group('entry')\n",
    "root['/entry'].attrs['NX_class'] = 'NXentry'\n",
    "root['/entry'].attrs['EX_required'] = 'true'"
   ]
  },
  {
   "cell_type": "code",
   "execution_count": 3,
   "id": "f74dada6",
   "metadata": {},
   "outputs": [],
   "source": [
    "# Create the FIELDS \n",
    " \n",
    "root['/entry'].create_dataset(name='title', data='SAMPLE-CHAR-DATA', maxshape=None)\n",
    "root['/entry/title'].attrs['type'] = 'NX_CHAR'\n",
    "root['/entry/title'].attrs['EX_required'] = 'true'"
   ]
  },
  {
   "cell_type": "code",
   "execution_count": 4,
   "id": "aa34c240",
   "metadata": {},
   "outputs": [
    {
     "name": "stdout",
     "output_type": "stream",
     "text": [
      "/\n",
      "├ entry\n",
      "  -----\n",
      "  ├ title\n"
     ]
    }
   ],
   "source": [
    "sidpy.hdf.hdf_utils.print_tree(root)"
   ]
  },
  {
   "cell_type": "code",
   "execution_count": 5,
   "id": "b51bd121",
   "metadata": {},
   "outputs": [],
   "source": [
    "def find_NXgroup(h5_group):\n",
    "    \"\"\"\n",
    "    Uses visit() to find all groups with NX_class attribute\n",
    "\n",
    "    Parameters\n",
    "    ----------\n",
    "    h5_group : :class:`h5py.Group`\n",
    "        Group to search within for the Dataset\n",
    "\n",
    "    Returns\n",
    "    -------\n",
    "    groups : list\n",
    "        List of [object] corresponding to groups with attribute NX_class.\n",
    "\n",
    "    \"\"\"\n",
    "    if not isinstance(h5_group, (h5py.File, h5py.Group)):\n",
    "        raise TypeError('h5_group should be a h5py.File or h5py.Group object')\n",
    "\n",
    "    # print 'Finding all instances of', ds_name\n",
    "    groups = []\n",
    "\n",
    "    def __find_name(name, obj):\n",
    "        if  isinstance(obj, h5py.Group):\n",
    "            found_nexus_group = False\n",
    "            for key in dict(obj.attrs).keys():\n",
    "                if 'NX_class' in key: \n",
    "                    found_nexus_group = True\n",
    "            if found_nexus_group:\n",
    "                groups.append(obj)\n",
    "        return\n",
    "\n",
    "    h5_group.visititems(__find_name)\n",
    "\n",
    "    return groups\n",
    "\n",
    "def find_nexus_class(groups, key):\n",
    "    nexus_class =  None\n",
    "    for group in groups:\n",
    "        if  dict(group.attrs)['NX_class'].decode('UTF-8') == key:\n",
    "            nexus_class = group\n",
    "            \n",
    "    return nexus_class\n",
    "\n",
    " "
   ]
  },
  {
   "cell_type": "code",
   "execution_count": 6,
   "id": "3acb408e",
   "metadata": {},
   "outputs": [
    {
     "data": {
      "text/plain": [
       "'2021-09-10T15:13:02.261816'"
      ]
     },
     "execution_count": 6,
     "metadata": {},
     "output_type": "execute_result"
    }
   ],
   "source": [
    "timestamp = \"T\".join(str( datetime.datetime.now() ).split())\n",
    "timestamp"
   ]
  },
  {
   "cell_type": "code",
   "execution_count": 7,
   "id": "acf507dc",
   "metadata": {},
   "outputs": [
    {
     "ename": "SyntaxError",
     "evalue": "invalid syntax (2981641984.py, line 25)",
     "output_type": "error",
     "traceback": [
      "\u001b[0;36m  File \u001b[0;32m\"/tmp/ipykernel_25856/2981641984.py\"\u001b[0;36m, line \u001b[0;32m25\u001b[0m\n\u001b[0;31m    for i,\u001b[0m\n\u001b[0m           ^\u001b[0m\n\u001b[0;31mSyntaxError\u001b[0m\u001b[0;31m:\u001b[0m invalid syntax\n"
     ]
    }
   ],
   "source": [
    "\n",
    "def read_nexus(file_name):\n",
    "    file = h5py.File(file_name,'r')\n",
    "    groups = find_NXgroup(file)\n",
    "\n",
    "    if find_nexus_class(groups, 'NXentry') is None:\n",
    "        print('This is not a NeXus file system')\n",
    "    \n",
    "    data_group = find_nexus_class(groups, 'NXdata')\n",
    "    data_dict = dict(data_group.attrs)\n",
    "    if 'signal' in data_dict:\n",
    "        signal = data_dict['signal']\n",
    "        if isinstance(signal, np.bytes_):\n",
    "            signal = signal.decode('UTF-8')\n",
    "        print(data_group[data_dict['signal']])\n",
    "        data = data_group[data_dict['signal']][()]\n",
    "    if 'axes' in data_dict:\n",
    "        for axis in data_dict['axes']:\n",
    "            if isinstance(axis, np.bytes_):\n",
    "                axis = axis.decode('UTF-8')\n",
    "            print(data_group[axis][()])\n",
    "            print(dict(data_group[axis].attrs))\n",
    "\n",
    "    dataset = sidpy.Dataset.from_array(data)\n",
    "    \n",
    "    for i, \n",
    "    dataset.set_dimension(0, sidpy.Dimension(np.arange(dataset.shape[0]), 'x',\n",
    "                                        units='nm', quantity='Length',\n",
    "                                        dimension_type='spatial'))\n",
    "dataset.set_dimension(1, sidpy.Dimension(np.linspace(-2, 2, num=dataset.shape[1], endpoint=True), 'y', \n",
    "                                        units='nm', quantity='Length',\n",
    "                                        dimension_type='spatial'))\n",
    "dataset.set_dimension(2, sidpy.Dimension(np.sin(np.linspace(0, 2 * np.pi, num=dataset.shape[2])), 'bias',\n",
    "                                        units='mV', quantity='Voltage',\n",
    "                                        dimension_type='spectral'))\n",
    "    \n",
    "    \n",
    "    return dataset\n",
    "\n",
    "\n",
    "\n",
    "dataset = read_nexus('example_data/33id_spec_22_2D.hdf5')\n",
    "    \n",
    "print(data_group.name)\n",
    "print(data_dict['chi_indices'])\n",
    "print(data_dict)\n",
    "plt.figure()\n",
    "plt.imshow(dataset)"
   ]
  },
  {
   "cell_type": "code",
   "execution_count": null,
   "id": "0b409ef9",
   "metadata": {},
   "outputs": [],
   "source": []
  },
  {
   "cell_type": "code",
   "execution_count": 134,
   "id": "399c5064",
   "metadata": {},
   "outputs": [
    {
     "name": "stdout",
     "output_type": "stream",
     "text": [
      "Epoch <HDF5 dataset \"Epoch\": shape (11, 11), type \"<f8\">\n",
      "H <HDF5 dataset \"H\": shape (11, 11), type \"<f8\">\n",
      "I0 <HDF5 dataset \"I0\": shape (11, 11), type \"<f8\">\n",
      "I00 <HDF5 dataset \"I00\": shape (11, 11), type \"<f8\">\n",
      "I0_1 <HDF5 dataset \"I0_1\": shape (11, 11), type \"<f8\">\n",
      "K <HDF5 dataset \"K\": shape (11, 11), type \"<f8\">\n",
      "Kalpha <HDF5 dataset \"Kalpha\": shape (11, 11), type \"<f8\">\n",
      "L <HDF5 dataset \"L\": shape (11, 11), type \"<f8\">\n",
      "_mca_ <HDF5 dataset \"_mca_\": shape (11, 11, 91), type \"<f8\">\n",
      "_mca_channel_ <HDF5 dataset \"_mca_channel_\": shape (91,), type \"<i4\">\n",
      "chi <HDF5 dataset \"chi\": shape (11,), type \"<f8\">\n",
      "elastic <HDF5 dataset \"elastic\": shape (11, 11), type \"<f8\">\n",
      "eta <HDF5 dataset \"eta\": shape (11,), type \"<f8\">\n",
      "harmonic <HDF5 dataset \"harmonic\": shape (11, 11), type \"<f8\">\n",
      "seconds <HDF5 dataset \"seconds\": shape (11, 11), type \"<f8\">\n",
      "signal <HDF5 dataset \"signal\": shape (11, 11), type \"<f8\">\n",
      "signal2 <HDF5 dataset \"signal2\": shape (11, 11), type \"<f8\">\n"
     ]
    }
   ],
   "source": [
    "for key in data_group:\n",
    "    print(key, ( data_group[key]))"
   ]
  },
  {
   "cell_type": "code",
   "execution_count": 78,
   "id": "ad95c091",
   "metadata": {},
   "outputs": [
    {
     "name": "stdout",
     "output_type": "stream",
     "text": [
      "<HDF5 file \"33id_spec_22_2D.hdf5\" (mode r)> dict_keys(['HDF5_Version', 'SPEC_comments', 'SPEC_date', 'SPEC_epoch', 'SPEC_file', 'SPEC_num_headers', 'SPEC_user', 'default', 'h5py_version', 'numpy_version', 'spec2nexus_version'])\n",
      "--- found entry\n"
     ]
    }
   ],
   "source": [
    "print(file, dict(file.attrs).keys())\n",
    "\n",
    "for group in groups:\n",
    "    if  dict(group.attrs)['NX_class'] == 'NXentry':\n",
    "        print ('--- found entry')"
   ]
  },
  {
   "cell_type": "code",
   "execution_count": null,
   "id": "b930120a",
   "metadata": {},
   "outputs": [],
   "source": []
  }
 ],
 "metadata": {
  "kernelspec": {
   "display_name": "Python 3 (ipykernel)",
   "language": "python",
   "name": "python3"
  },
  "language_info": {
   "codemirror_mode": {
    "name": "ipython",
    "version": 3
   },
   "file_extension": ".py",
   "mimetype": "text/x-python",
   "name": "python",
   "nbconvert_exporter": "python",
   "pygments_lexer": "ipython3",
   "version": "3.8.11"
  }
 },
 "nbformat": 4,
 "nbformat_minor": 5
}
